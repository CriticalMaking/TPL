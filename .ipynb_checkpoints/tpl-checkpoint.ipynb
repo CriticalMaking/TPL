{
 "cells": [
  {
   "cell_type": "markdown",
   "metadata": {},
   "source": [
    "\n",
    "# Introduction\n",
    "\n"
   ]
  },
  {
   "cell_type": "markdown",
   "metadata": {},
   "source": [
    "This is a very basic set of instructions for preparing 3D-printed visualizations from datasets available through the City of Toronto's [Open Data Portal](https://portal0.cf.opendata.inter.sandbox-toronto.ca/). \n",
    "\n"
   ]
  },
  {
   "cell_type": "markdown",
   "metadata": {},
   "source": [
    "\n",
    "# Preparation\n",
    "\n"
   ]
  },
  {
   "cell_type": "markdown",
   "metadata": {},
   "source": [
    "-   Make sure you have a working Python installation!\n",
    "-   Download Anaconda (if you don't have a Python installation): [https://www.anaconda.com/download/](https://www.anaconda.com/download/)\n",
    "-   You will need the following Python libraries: pandas, numpy, stat, matplotlib, seaborn, plotly\n",
    "-   Set up JupyterLab or Jupyter Notebook: [https://anaconda.org/conda-forge/jupyterlab](https://anaconda.org/conda-forge/jupyterlab)\n",
    "-   Download Blender if you don't have 3D modeling software: [https://www.blender.org/download/](https://www.blender.org/download/)\n",
    "-   Download QGIS if you want to create maps: [https://qgis.org/en/site/forusers/download.html](https://qgis.org/en/site/forusers/download.html)\n",
    "\n"
   ]
  },
  {
   "cell_type": "markdown",
   "metadata": {},
   "source": [
    "\n",
    "# Data Sources\n",
    "\n"
   ]
  },
  {
   "cell_type": "markdown",
   "metadata": {},
   "source": [
    "We will be taking data from the City of Toronto's portal, but there are various other interesting datasets that you might consider working with: biometric/self-tracking/fitbit; kaggle datasets (the pokemon one is fun if you're working with kids); \n",
    "\n",
    "That said, I would recommend working with a simple dataset first, or spending lots of time looking at your data in a spreadsheet before moving forward. I have included some very basic cleaning functions in the notebook cells below. \n",
    "\n",
    "Some tips on selecting and preparing your data:\n",
    "\n",
    "-   There are various tools you can use to clean/munge/prepare your data, including Excel, Libre Office Calc, R, etc. I prefer pandas, a Python library for data analysis. There are numerous excellent tutorials that detail how to import and prepare data (using pandas) in an iPython/Jupyter notebook\n",
    "-   If you are using a\n",
    "\n",
    "For this exercise, we will be working with pedestrian data from the King Street Pilot Project. All data was scraped from the .pdf reports that the city of Toronto has made available here: [https://www.toronto.ca/city-government/planning-development/planning-studies-initiatives/king-street-pilot/data-reports-background-materials/](https://www.toronto.ca/city-government/planning-development/planning-studies-initiatives/king-street-pilot/data-reports-background-materials/)\n",
    "The data is available in the data directory of the repository that contains this file.  \n",
    "\n"
   ]
  },
  {
   "cell_type": "markdown",
   "metadata": {},
   "source": [
    "\n",
    "# Working with Data in Jupyter\n",
    "\n"
   ]
  },
  {
   "cell_type": "markdown",
   "metadata": {},
   "source": [
    "Import the necessary libraries:\n",
    "\n"
   ]
  },
  {
   "cell_type": "code",
   "execution_count": 45,
   "metadata": {},
   "outputs": [],
   "source": [
    "import pandas as pd\n",
    "import numpy as np\n",
    "import stat as st\n",
    "import matplotlib.pyplot as plt\n",
    "import seaborn as sns\n",
    "import plotly.plotly as py\n",
    "import plotly.graph_objs as go"
   ]
  },
  {
   "cell_type": "markdown",
   "metadata": {},
   "source": [
    "Import your data:\n",
    "\n"
   ]
  },
  {
   "cell_type": "code",
   "execution_count": 46,
   "metadata": {},
   "outputs": [],
   "source": [
    "pvol = pd.read_csv('data/king_pedestrian_volume.csv')"
   ]
  },
  {
   "cell_type": "markdown",
   "metadata": {},
   "source": [
    "Set the figure size for data graphics:\n",
    "\n"
   ]
  },
  {
   "cell_type": "code",
   "execution_count": 47,
   "metadata": {},
   "outputs": [],
   "source": [
    "plt.rcParams['figure.figsize'] = [10, 8]"
   ]
  },
  {
   "cell_type": "markdown",
   "metadata": {},
   "source": [
    "Set the index for the pandas dataframe you've created:\n",
    "\n"
   ]
  },
  {
   "cell_type": "code",
   "execution_count": 48,
   "metadata": {},
   "outputs": [
    {
     "data": {
      "text/html": [
       "<div>\n",
       "<style scoped>\n",
       "    .dataframe tbody tr th:only-of-type {\n",
       "        vertical-align: middle;\n",
       "    }\n",
       "\n",
       "    .dataframe tbody tr th {\n",
       "        vertical-align: top;\n",
       "    }\n",
       "\n",
       "    .dataframe thead th {\n",
       "        text-align: right;\n",
       "    }\n",
       "</style>\n",
       "<table border=\"1\" class=\"dataframe\">\n",
       "  <thead>\n",
       "    <tr style=\"text-align: right;\">\n",
       "      <th></th>\n",
       "      <th>am_bathurst_baseline</th>\n",
       "      <th>am_bathurst_january</th>\n",
       "      <th>am_bathurst_february</th>\n",
       "      <th>am_bathurst_march</th>\n",
       "      <th>am_bathurst_april</th>\n",
       "      <th>am_bathurst_may</th>\n",
       "      <th>am_bathurst_june</th>\n",
       "      <th>am_spadina_baseline</th>\n",
       "      <th>am_spadina_january</th>\n",
       "      <th>am_spadina_february</th>\n",
       "      <th>...</th>\n",
       "      <th>pm_bay_april</th>\n",
       "      <th>pm_bay_may</th>\n",
       "      <th>pm_bay_june</th>\n",
       "      <th>pm_jarvis_baseline</th>\n",
       "      <th>pm_jarvis_january</th>\n",
       "      <th>pm_jarvis_february</th>\n",
       "      <th>pm_jarvis_march</th>\n",
       "      <th>pm_jarvis_april</th>\n",
       "      <th>pm_jarvis_may</th>\n",
       "      <th>pm_jarvis_june</th>\n",
       "    </tr>\n",
       "    <tr>\n",
       "      <th>street</th>\n",
       "      <th></th>\n",
       "      <th></th>\n",
       "      <th></th>\n",
       "      <th></th>\n",
       "      <th></th>\n",
       "      <th></th>\n",
       "      <th></th>\n",
       "      <th></th>\n",
       "      <th></th>\n",
       "      <th></th>\n",
       "      <th></th>\n",
       "      <th></th>\n",
       "      <th></th>\n",
       "      <th></th>\n",
       "      <th></th>\n",
       "      <th></th>\n",
       "      <th></th>\n",
       "      <th></th>\n",
       "      <th></th>\n",
       "      <th></th>\n",
       "      <th></th>\n",
       "    </tr>\n",
       "  </thead>\n",
       "  <tbody>\n",
       "    <tr>\n",
       "      <th>queen</th>\n",
       "      <td>1810</td>\n",
       "      <td>1640</td>\n",
       "      <td>1750</td>\n",
       "      <td>1760</td>\n",
       "      <td>1790</td>\n",
       "      <td>1960</td>\n",
       "      <td>1770</td>\n",
       "      <td>2000</td>\n",
       "      <td>1880</td>\n",
       "      <td>1790</td>\n",
       "      <td>...</td>\n",
       "      <td>4890</td>\n",
       "      <td>8340</td>\n",
       "      <td>9280</td>\n",
       "      <td>1320</td>\n",
       "      <td>1140</td>\n",
       "      <td>1300</td>\n",
       "      <td>1210</td>\n",
       "      <td>1300</td>\n",
       "      <td>1450</td>\n",
       "      <td>1460</td>\n",
       "    </tr>\n",
       "    <tr>\n",
       "      <th>king</th>\n",
       "      <td>2820</td>\n",
       "      <td>2680</td>\n",
       "      <td>2620</td>\n",
       "      <td>2590</td>\n",
       "      <td>2580</td>\n",
       "      <td>2890</td>\n",
       "      <td>2780</td>\n",
       "      <td>4150</td>\n",
       "      <td>3580</td>\n",
       "      <td>3690</td>\n",
       "      <td>...</td>\n",
       "      <td>5540</td>\n",
       "      <td>8060</td>\n",
       "      <td>8190</td>\n",
       "      <td>3370</td>\n",
       "      <td>3760</td>\n",
       "      <td>4050</td>\n",
       "      <td>3930</td>\n",
       "      <td>4060</td>\n",
       "      <td>3920</td>\n",
       "      <td>4080</td>\n",
       "    </tr>\n",
       "  </tbody>\n",
       "</table>\n",
       "<p>2 rows × 56 columns</p>\n",
       "</div>"
      ],
      "text/plain": [
       "        am_bathurst_baseline  am_bathurst_january  am_bathurst_february  \\\n",
       "street                                                                    \n",
       "queen                   1810                 1640                  1750   \n",
       "king                    2820                 2680                  2620   \n",
       "\n",
       "        am_bathurst_march  am_bathurst_april  am_bathurst_may  \\\n",
       "street                                                          \n",
       "queen                1760               1790             1960   \n",
       "king                 2590               2580             2890   \n",
       "\n",
       "        am_bathurst_june  am_spadina_baseline  am_spadina_january  \\\n",
       "street                                                              \n",
       "queen               1770                 2000                1880   \n",
       "king                2780                 4150                3580   \n",
       "\n",
       "        am_spadina_february       ...        pm_bay_april  pm_bay_may  \\\n",
       "street                            ...                                   \n",
       "queen                  1790       ...                4890        8340   \n",
       "king                   3690       ...                5540        8060   \n",
       "\n",
       "        pm_bay_june  pm_jarvis_baseline  pm_jarvis_january  \\\n",
       "street                                                       \n",
       "queen          9280                1320               1140   \n",
       "king           8190                3370               3760   \n",
       "\n",
       "        pm_jarvis_february  pm_jarvis_march  pm_jarvis_april  pm_jarvis_may  \\\n",
       "street                                                                        \n",
       "queen                 1300             1210             1300           1450   \n",
       "king                  4050             3930             4060           3920   \n",
       "\n",
       "        pm_jarvis_june  \n",
       "street                  \n",
       "queen             1460  \n",
       "king              4080  \n",
       "\n",
       "[2 rows x 56 columns]"
      ]
     },
     "execution_count": 48,
     "metadata": {},
     "output_type": "execute_result"
    }
   ],
   "source": [
    "pvol.set_index('street')"
   ]
  },
  {
   "cell_type": "markdown",
   "metadata": {},
   "source": [
    "Create some objects for each street:\n",
    "\n"
   ]
  },
  {
   "cell_type": "code",
   "execution_count": 49,
   "metadata": {},
   "outputs": [],
   "source": [
    "#### am objects\n",
    "# bathurst\n",
    "pvol_bathurst_am = pvol[['street',\n",
    "                         'am_bathurst_baseline',\n",
    "                         'am_bathurst_january',\n",
    "                         'am_bathurst_february',\n",
    "                         'am_bathurst_march',\n",
    "                         'am_bathurst_april',\n",
    "                         'am_bathurst_may',\n",
    "                         'am_bathurst_june']]\n",
    "\n",
    "# spadina\n",
    "pvol_spadina_am = pvol[['street',\n",
    "                        'am_spadina_baseline',\n",
    "                        'am_spadina_january',\n",
    "                        'am_spadina_february',\n",
    "                        'am_spadina_march',\n",
    "                        'am_spadina_april',\n",
    "                        'am_spadina_may',\n",
    "                        'am_spadina_june']]\n",
    "\n",
    "# bay\n",
    "pvol_bay_am = pvol[['street',\n",
    "                    'am_bay_baseline',\n",
    "                    'am_bay_january',\n",
    "                    'am_bay_february',\n",
    "                    'am_bay_march',\n",
    "                    'am_bay_april',\n",
    "                    'am_bay_may',\n",
    "                    'am_bay_june']]\n",
    "\n",
    "# jarvis\n",
    "pvol_jarvis_am = pvol[['street',\n",
    "                       'am_jarvis_baseline',\n",
    "                       'am_jarvis_january',\n",
    "                       'am_jarvis_february',\n",
    "                       'am_jarvis_march',\n",
    "                       'am_jarvis_april',\n",
    "                       'am_jarvis_may',\n",
    "                       'am_jarvis_june']]\n",
    "\n",
    "#### pm objects\n",
    "# bathurst\n",
    "pvol_bathurst_pm = pvol[['street',\n",
    "                         'pm_bathurst_baseline',\n",
    "                         'pm_bathurst_january',\n",
    "                         'pm_bathurst_february',\n",
    "                         'pm_bathurst_march',\n",
    "                         'pm_bathurst_april',\n",
    "                         'pm_bathurst_may',\n",
    "                         'pm_bathurst_june']]\n",
    "\n",
    "# spadina\n",
    "pvol_spadina_pm = pvol[['street',\n",
    "                        'pm_spadina_baseline',\n",
    "                        'pm_spadina_january',\n",
    "                        'pm_spadina_february',\n",
    "                        'pm_spadina_march',\n",
    "                        'pm_spadina_april',\n",
    "                        'pm_spadina_may',\n",
    "                        'pm_spadina_june']]\n",
    "\n",
    "# bay\n",
    "pvol_bay_pm = pvol[['street',\n",
    "                    'pm_bay_baseline',\n",
    "                    'pm_bay_january',\n",
    "                    'pm_bay_february',\n",
    "                    'pm_bay_march',\n",
    "                    'pm_bay_april',\n",
    "                    'pm_bay_may',\n",
    "                    'pm_bay_june']]\n",
    "\n",
    "# jarvis\n",
    "pvol_jarvis_pm = pvol[['street',\n",
    "                       'pm_jarvis_baseline',\n",
    "                       'pm_jarvis_january',\n",
    "                       'pm_jarvis_february',\n",
    "                       'pm_jarvis_march',\n",
    "                       'pm_jarvis_april',\n",
    "                       'pm_jarvis_may',\n",
    "                       'pm_jarvis_june']]"
   ]
  },
  {
   "cell_type": "markdown",
   "metadata": {},
   "source": [
    "Create a grouped bar chart using the plotly library:\n",
    "\n"
   ]
  },
  {
   "cell_type": "code",
   "execution_count": 50,
   "metadata": {},
   "outputs": [
    {
     "data": {
      "text/html": [
       "<iframe id=\"igraph\" scrolling=\"no\" style=\"border:none;\" seamless=\"seamless\" src=\"https://plot.ly/~gbby/239.embed\" height=\"525px\" width=\"100%\"></iframe>"
      ],
      "text/plain": [
       "<plotly.tools.PlotlyDisplay object>"
      ]
     },
     "execution_count": 50,
     "metadata": {},
     "output_type": "execute_result"
    }
   ],
   "source": [
    "#### plotly-based grouped bar charts\n",
    "# AM Bathurst\n",
    "baseline = go.Bar(\n",
    "    x=pvol['street'],\n",
    "    y=pvol['am_bathurst_baseline'],\n",
    "    name='AM Bathurst Baseline',\n",
    "    hoverinfo='y+name'\n",
    ")\n",
    "january = go.Bar(\n",
    "    x=pvol['street'],\n",
    "    y=pvol['am_bathurst_january'],\n",
    "    name='AM Bathurst January',\n",
    "    hoverinfo='y+name'\n",
    ")\n",
    "february = go.Bar(\n",
    "    x=pvol['street'],\n",
    "    y=pvol['am_bathurst_february'],\n",
    "    name='AM Bathurst February',\n",
    "    hoverinfo='y+name'\n",
    ")\n",
    "march = go.Bar(\n",
    "    x=pvol['street'],\n",
    "    y=pvol['am_bathurst_march'],\n",
    "    name='AM Bathurst March',\n",
    "    hoverinfo='y+name'\n",
    ")\n",
    "april = go.Bar(\n",
    "    x=pvol['street'],\n",
    "    y=pvol['am_bathurst_april'],\n",
    "    name='AM Bathurst April',\n",
    "    hoverinfo='y+name'\n",
    ")\n",
    "may = go.Bar(\n",
    "    x=pvol['street'],\n",
    "    y=pvol['am_bathurst_may'],\n",
    "    name='AM Bathurst May',\n",
    "    hoverinfo='y+name'\n",
    ")\n",
    "june = go.Bar(\n",
    "    x=pvol['street'],\n",
    "    y=pvol['am_bathurst_june'],\n",
    "    name='AM Bathurst June',\n",
    "    hoverinfo='y+name'\n",
    ")\n",
    "\n",
    "data = [baseline, january, february, march, april, may, june]\n",
    "layout = go.Layout(\n",
    "    barmode='group',\n",
    "    # bargap=0.15,\n",
    "    bargroupgap=0.1,\n",
    "    hovermode='closest'\n",
    "    # showlegend=False\n",
    ")\n",
    "\n",
    "fig = go.Figure(data=data, layout=layout)\n",
    "py.iplot(fig, filename='grouped-bar')"
   ]
  },
  {
   "cell_type": "markdown",
   "metadata": {},
   "source": [
    "The dataframe provides data for the 7-10 am and 4-7 pm peak periods at the intersections Bathurst, Spadina, Bay, and Jarvis at both King and Queen. Change your arguments accordingly to prepare different charts using plotly.\n",
    "\n",
    "Using the standard pandas plotting functions (which rely on matplotlib), you can prepare bare-bones static charts (use matplotlib or seaborn if you want to customize):\n",
    "\n"
   ]
  },
  {
   "cell_type": "code",
   "execution_count": 51,
   "metadata": {},
   "outputs": [
    {
     "data": {
      "image/png": "[encoded data removed]",
      "text/plain": [
       "<Figure size 720x576 with 1 Axes>"
      ]
     },
     "metadata": {},
     "output_type": "display_data"
    }
   ],
   "source": [
    "pvol_bathurst_am.plot.bar(x='street', \n",
    "                          rot=0,\n",
    "                          width=0.85, \n",
    "                          title='AM Peak Pedestrian Volume Measured at Bathurst');"
   ]
  },
  {
   "cell_type": "markdown",
   "metadata": {},
   "source": [
    "If you want horizontal charts, you can chain barh to the plot method:\n",
    "\n"
   ]
  },
  {
   "cell_type": "code",
   "execution_count": 52,
   "metadata": {},
   "outputs": [
    {
     "data": {
      "image/png": "[encoded data removed]",
      "text/plain": [
       "<Figure size 720x576 with 1 Axes>"
      ]
     },
     "metadata": {},
     "output_type": "display_data"
    }
   ],
   "source": [
    "pvol_bathurst_am.plot.barh(x='street', \n",
    "                           rot=0,\n",
    "                           width=0.85,\n",
    "                           title='AM Peak Pedestrian Volume Measured at Bathurst');"
   ]
  },
  {
   "cell_type": "markdown",
   "metadata": {},
   "source": [
    "\n",
    "# 3D Bars in Blender\n",
    "\n"
   ]
  },
  {
   "cell_type": "markdown",
   "metadata": {},
   "source": [
    "This assumes that you have the csv and bpy modules in your system. Depending on your operating system and Python configuration, you may need to install and configure separately.\n",
    "\n",
    "-   open king<sub>pedestrian</sub><sub>volume.csv</sub> in a spreadsheet application (calc or excel) and copy the entire row for queen\n",
    "-   open a new window/file and paste special with the transpose option to turn your row of data into a column\n",
    "-   remove the \"queen\" row at the top, then save as pvol<sub>queen.csv</sub>\n",
    "-   repeat these steps for king\n",
    "-   in Blender, open up a text editor window\n",
    "-   use the 3Dbars.py script and make sure to import pvol<sub>king.csv</sub> and pvol<sub>queen.csv</sub> separately\n",
    "-   export entire block or separate streets as .obj or .stl files\n",
    "\n"
   ]
  },
  {
   "cell_type": "markdown",
   "metadata": {},
   "source": [
    "\n",
    "# Preparing 3D Data Maps\n",
    "\n"
   ]
  },
  {
   "cell_type": "markdown",
   "metadata": {},
   "source": [
    "We are going to work with data from the [2016 Neighbourhood Profiles Dataset](https://www.toronto.ca/city-government/data-research-maps/open-data/open-data-catalogue/#8c732154-5012-9afe-d0cd-ba3ffc813d5a). I've already cleaned and processed the dataset so it will play nice with QGIS. The raw and processed .csv files are in the data directory. \n",
    "\n",
    "**If you're going to use Excel or Calc, here are some steps to follow:**\n",
    "\n",
    "-   data setup [http://www.qgis.nl/2012/07/13/koppelen-van-data-uit-csv-bestand/?lang=en](http://www.qgis.nl/2012/07/13/koppelen-van-data-uit-csv-bestand/?lang=en)\n",
    "-   cut the row you want and paste special into a new document. transpose the row into a column.\n",
    "-   in order to get appropriate scale in later 3D model, concatenate a decimal and zero to cell and copy down the column (could also change the shapefile size parameters in qgis).\n",
    "-   cut the column and paste special it\n",
    "-   (right click to) format first column and make sure it has leading zeroes to match the id values in the shapefile\n",
    "-   make sure you have a csvt and follow formula in current one [https://anitagraser.com/2011/03/07/how-to-specify-data-types-of-csv-columns-for-use-in-qgis/](https://anitagraser.com/2011/03/07/how-to-specify-data-types-of-csv-columns-for-use-in-qgis/)\n",
    "\n",
    "**Here are some additional things you can do with pandas and numpy to change scales.** \n",
    "\n",
    "Import the data:\n",
    "\n"
   ]
  },
  {
   "cell_type": "code",
   "execution_count": 53,
   "metadata": {},
   "outputs": [
    {
     "data": {
      "text/html": [
       "<div>\n",
       "<style scoped>\n",
       "    .dataframe tbody tr th:only-of-type {\n",
       "        vertical-align: middle;\n",
       "    }\n",
       "\n",
       "    .dataframe tbody tr th {\n",
       "        vertical-align: top;\n",
       "    }\n",
       "\n",
       "    .dataframe thead th {\n",
       "        text-align: right;\n",
       "    }\n",
       "</style>\n",
       "<table border=\"1\" class=\"dataframe\">\n",
       "  <thead>\n",
       "    <tr style=\"text-align: right;\">\n",
       "      <th></th>\n",
       "      <th>id</th>\n",
       "      <th>2011</th>\n",
       "      <th>2016</th>\n",
       "    </tr>\n",
       "  </thead>\n",
       "  <tbody>\n",
       "    <tr>\n",
       "      <th>0</th>\n",
       "      <td>001</td>\n",
       "      <td>0.0341</td>\n",
       "      <td>0.033312</td>\n",
       "    </tr>\n",
       "    <tr>\n",
       "      <th>1</th>\n",
       "      <td>002</td>\n",
       "      <td>0.032788</td>\n",
       "      <td>0.032954</td>\n",
       "    </tr>\n",
       "    <tr>\n",
       "      <th>2</th>\n",
       "      <td>003</td>\n",
       "      <td>0.010138</td>\n",
       "      <td>0.01036</td>\n",
       "    </tr>\n",
       "    <tr>\n",
       "      <th>3</th>\n",
       "      <td>004</td>\n",
       "      <td>0.010488</td>\n",
       "      <td>0.010529</td>\n",
       "    </tr>\n",
       "    <tr>\n",
       "      <th>4</th>\n",
       "      <td>005</td>\n",
       "      <td>0.00955</td>\n",
       "      <td>0.009456</td>\n",
       "    </tr>\n",
       "  </tbody>\n",
       "</table>\n",
       "</div>"
      ],
      "text/plain": [
       "    id      2011      2016\n",
       "0  001    0.0341  0.033312\n",
       "1  002  0.032788  0.032954\n",
       "2  003  0.010138   0.01036\n",
       "3  004  0.010488  0.010529\n",
       "4  005   0.00955  0.009456"
      ]
     },
     "execution_count": 53,
     "metadata": {},
     "output_type": "execute_result"
    }
   ],
   "source": [
    "df = pd.read_csv('data/neighbourhood_pop.csv', dtype=str) # dtype str will keep the leading zeroes\n",
    "df.head()"
   ]
  },
  {
   "cell_type": "markdown",
   "metadata": {},
   "source": [
    "Set index to ID:\n",
    "\n"
   ]
  },
  {
   "cell_type": "code",
   "execution_count": 54,
   "metadata": {},
   "outputs": [],
   "source": [
    "df.set_index('id', inplace=True)"
   ]
  },
  {
   "cell_type": "markdown",
   "metadata": {},
   "source": [
    "Convert strings to floats in order to use numpy functions:\n",
    "\n"
   ]
  },
  {
   "cell_type": "code",
   "execution_count": 55,
   "metadata": {},
   "outputs": [],
   "source": [
    "df['2011'] = df['2011'].astype(str).astype(float)\n",
    "df['2016'] = df['2016'].astype(str).astype(float)"
   ]
  },
  {
   "cell_type": "markdown",
   "metadata": {},
   "source": [
    "Use numpy to convert 2016 to square:\n",
    "\n"
   ]
  },
  {
   "cell_type": "code",
   "execution_count": 56,
   "metadata": {},
   "outputs": [
    {
     "data": {
      "text/html": [
       "<div>\n",
       "<style scoped>\n",
       "    .dataframe tbody tr th:only-of-type {\n",
       "        vertical-align: middle;\n",
       "    }\n",
       "\n",
       "    .dataframe tbody tr th {\n",
       "        vertical-align: top;\n",
       "    }\n",
       "\n",
       "    .dataframe thead th {\n",
       "        text-align: right;\n",
       "    }\n",
       "</style>\n",
       "<table border=\"1\" class=\"dataframe\">\n",
       "  <thead>\n",
       "    <tr style=\"text-align: right;\">\n",
       "      <th></th>\n",
       "      <th>2011</th>\n",
       "      <th>2016</th>\n",
       "    </tr>\n",
       "    <tr>\n",
       "      <th>id</th>\n",
       "      <th></th>\n",
       "      <th></th>\n",
       "    </tr>\n",
       "  </thead>\n",
       "  <tbody>\n",
       "    <tr>\n",
       "      <th>001</th>\n",
       "      <td>0.034100</td>\n",
       "      <td>0.182516</td>\n",
       "    </tr>\n",
       "    <tr>\n",
       "      <th>002</th>\n",
       "      <td>0.032788</td>\n",
       "      <td>0.181532</td>\n",
       "    </tr>\n",
       "    <tr>\n",
       "      <th>003</th>\n",
       "      <td>0.010138</td>\n",
       "      <td>0.101784</td>\n",
       "    </tr>\n",
       "    <tr>\n",
       "      <th>004</th>\n",
       "      <td>0.010488</td>\n",
       "      <td>0.102611</td>\n",
       "    </tr>\n",
       "    <tr>\n",
       "      <th>005</th>\n",
       "      <td>0.009550</td>\n",
       "      <td>0.097242</td>\n",
       "    </tr>\n",
       "  </tbody>\n",
       "</table>\n",
       "</div>"
      ],
      "text/plain": [
       "         2011      2016\n",
       "id                     \n",
       "001  0.034100  0.182516\n",
       "002  0.032788  0.181532\n",
       "003  0.010138  0.101784\n",
       "004  0.010488  0.102611\n",
       "005  0.009550  0.097242"
      ]
     },
     "execution_count": 56,
     "metadata": {},
     "output_type": "execute_result"
    }
   ],
   "source": [
    "df['2016'] = np.sqrt(df['2016'])\n",
    "df.head()"
   ]
  },
  {
   "cell_type": "markdown",
   "metadata": {},
   "source": [
    "Use numpy to convert 2011 to logarithmic:\n",
    "\n"
   ]
  },
  {
   "cell_type": "code",
   "execution_count": 57,
   "metadata": {},
   "outputs": [],
   "source": [
    "df['2011'] = np.log10(df['2011'])"
   ]
  },
  {
   "cell_type": "markdown",
   "metadata": {},
   "source": [
    "Output a new data file that can be imported into QGIS:\n",
    "\n"
   ]
  },
  {
   "cell_type": "code",
   "execution_count": 58,
   "metadata": {},
   "outputs": [],
   "source": [
    "df.to_csv('data/neighbourhood_pop_scaled.csv')"
   ]
  },
  {
   "cell_type": "markdown",
   "metadata": {},
   "source": [
    "**in QGIS:**\n",
    "\n",
    "-   download the [neighbourhoods shapefile](https://www.toronto.ca/city-government/data-research-maps/open-data/open-data-catalogue/#a45bd45a-ede8-730e-1abc-93105b2c439f) - you want the WGS84 coordinate system (I've included the files you need in the data directory)\n",
    "-   use ctrl-shift-v to add vector layer\n",
    "-   select the entire .zip that you downloaded\n",
    "-   import neighbourhood<sub>pop.csv</sub> as a vector layer (not as a delimited one)\n",
    "-   join data from csv to existing shapefile [https://gis.stackexchange.com/questions/182281/how-to-join-data-from-excel-to-an-attribute-table-in-qgis-without-creating-dupli](https://gis.stackexchange.com/questions/182281/how-to-join-data-from-excel-to-an-attribute-table-in-qgis-without-creating-dupli)\n",
    "-   save a new shapefile and edit column names if you wish\n",
    "\n",
    "**in Blender:**\n",
    "\n",
    "-   Make sure you have the BlenderGIS plugin installed: [https://github.com/domlysz/BlenderGIS](https://github.com/domlysz/BlenderGIS)\n",
    "-   set extrusion to the specific data column\n",
    "-   extrude along z axis\n",
    "-   if you want, separate the objects and create object names from the id field\n",
    "-   change coordinates to WGS84 latlon\n",
    "-   add a base or make the objects solid (use solidify modifier) if you want\n",
    "\n"
   ]
  },
  {
   "cell_type": "markdown",
   "metadata": {},
   "source": [
    "\n",
    "# Preparing to 3D Print\n",
    "\n"
   ]
  },
  {
   "cell_type": "markdown",
   "metadata": {},
   "source": [
    "Some blender tips:\n",
    "\n",
    "-   installing braille [https://blender.stackexchange.com/questions/39437/braille-text-in-blender](https://blender.stackexchange.com/questions/39437/braille-text-in-blender)\n",
    "-   go into the text editor stuff and find the font to load\n",
    "-   go into edit mode and extrude/bevel accordingly\n",
    "\n",
    "There are numerous software applications that you might use for preparing models prior to setting them up to print. Among them, I recommend meshlab [http://www.meshlab.net/](http://www.meshlab.net/), meshmixer [http://www.meshmixer.com/](http://www.meshmixer.com/), and cotangent [https://www.cotangent.io/](https://www.cotangent.io/).\n",
    "\n"
   ]
  },
  {
   "cell_type": "markdown",
   "metadata": {},
   "source": [
    "\n",
    "# Printing Considerations\n",
    "\n"
   ]
  },
  {
   "cell_type": "markdown",
   "metadata": {},
   "source": [
    "Some things to think about if you're preparing tactile models for blind users. \n",
    "\n",
    "-   Braille is very tricky to print. If you're using an FDM printer, be careful that traces of excess filament are not being dragged across the dots.\n",
    "-   Printing does not have to be static. Think about how to separate your models into individual, reconfigurable/modular chunks in order to create dynamic data representations.\n",
    "\n"
   ]
  }
 ],
 "metadata": {
  "kernelspec": {
   "display_name": "Python 3",
   "language": "python",
   "name": "python3"
  },
  "language_info": {
   "codemirror_mode": {
    "name": "ipython",
    "version": 3
   },
   "file_extension": ".py",
   "mimetype": "text/x-python",
   "name": "python",
   "nbconvert_exporter": "python",
   "pygments_lexer": "ipython3",
   "version": "3.5.2"
  },
  "org": [
   null,
   null
  ]
 },
 "nbformat": 4,
 "nbformat_minor": 2
}
