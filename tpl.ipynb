{
 "cells": [
  {
   "cell_type": "markdown",
   "metadata": {},
   "source": [
    "\n",
    "# Introduction\n",
    "\n"
   ]
  },
  {
   "cell_type": "markdown",
   "metadata": {},
   "source": [
    "This tutorial presents a few basic options for preparing 3D-printed visualizations from datasets that are available through the City of Toronto's [Open Data Portal](https://portal0.cf.opendata.inter.sandbox-toronto.ca/). \n",
    "\n"
   ]
  },
  {
   "cell_type": "markdown",
   "metadata": {},
   "source": [
    "\n",
    "# Preparation\n",
    "\n"
   ]
  },
  {
   "cell_type": "markdown",
   "metadata": {},
   "source": [
    "Most of the processes used are software/language agnostic, but we strongly encourage you to acquire a baseline understanding of the modern Python data science ecosystem. These are a few important pieces that you'll want to set up:  \n",
    "\n",
    "-   Make sure you have a working Python installation! Download Anaconda and follow its setup instructions if you don't already have a Python installation: [https://www.anaconda.com/download/](https://www.anaconda.com/download/)\n",
    "-   You will need to install the following Python libraries: pandas, numpy, stat, matplotlib, seaborn, plotly. If you are using Anaconda, use \"conda install-c anaconda *package-name*\" from a command line. Alternatively, use pip or easy<sub>install</sub> or apt-get install python-*package-name*.\n",
    "-   There is a difference between Python 2 and 3. You may need to familiarize yourself with it, depending on which version you decide to install.\n",
    "-   Download and set up JupyterLab and/or Jupyter Notebook: [https://github.com/jupyterlab/jupyterlab](https://github.com/jupyterlab/jupyterlab)\n",
    "-   Download Blender if you don't already use 3D modeling software (e.g. Maya): [https://www.blender.org/download/](https://www.blender.org/download/)\n",
    "-   Download QGIS if you want to create maps and other geospatial data representations: [https://qgis.org/en/site/forusers/download.html](https://qgis.org/en/site/forusers/download.html)\n",
    "\n"
   ]
  },
  {
   "cell_type": "markdown",
   "metadata": {},
   "source": [
    "\n",
    "# Data Sources\n",
    "\n"
   ]
  },
  {
   "cell_type": "markdown",
   "metadata": {},
   "source": [
    "We will be using data from the City of Toronto's portal, but there are various other interesting datasets that you might consider working with. For example, you can collect and use your own biometric/self-tracking data if you have a wearable device like a fitbit. Kaggle provides lots of awesome datasets (the pokemon one is fun if you're working with kids): [https://kaggle.com/datasets](https://kaggle.com/datasets). Google has a dataset search tool: [https://toolbox.google.com/datasetsearch](https://toolbox.google.com/datasetsearch). 538 has plenty of interesting political, social, and sports-related datasets: [https://data.fivethirtyeight.com/](https://data.fivethirtyeight.com/). You might also familiarize yourself with the Open North community: [https://github.com/opennorth](https://github.com/opennorth).\n",
    "\n",
    "There are various tools you can use to clean/munge/prepare your data, including Excel, Libre Office Calc, R, and many more. We prefer pandas, a Python library for data analysis. There are lots of great tutorials that will outline how to import and prepare data with pandas in an iPython/Jupyter notebook. Your best bet is to do the free datacamp tutorials if you're completely new to this stuff: [https://www.datacamp.com/community/tutorials/pandas-tutorial-dataframe-python](https://www.datacamp.com/community/tutorials/pandas-tutorial-dataframe-python)\n",
    "That said, we recommend either starting with something simple or spending plenty of time familiarizing yourself with a dataset in a spreadsheet application before moving to pandas dataframes (even though we have included some very basic cleaning functions in the notebook cells below). \n",
    "\n",
    "For this exercise, we will be working with pedestrian data from the King Street Pilot Project. We scraped all the data from the monthly .pdf reports that city of Toronto has made available here: [https://www.toronto.ca/city-government/planning-development/planning-studies-initiatives/king-street-pilot/data-reports-background-materials/](https://www.toronto.ca/city-government/planning-development/planning-studies-initiatives/king-street-pilot/data-reports-background-materials/)\n",
    "The data is available in the *data* directory of the repository that contains this file.  \n",
    "\n"
   ]
  },
  {
   "cell_type": "markdown",
   "metadata": {},
   "source": [
    "\n",
    "# Working with Data in a Python/Jupyter Notebook\n",
    "\n"
   ]
  },
  {
   "cell_type": "markdown",
   "metadata": {},
   "source": [
    "Start by importing the necessary libraries:\n",
    "\n"
   ]
  },
  {
   "cell_type": "code",
   "execution_count": 17,
   "metadata": {},
   "outputs": [],
   "source": [
    "import pandas as pd\n",
    "import numpy as np\n",
    "import stat as st\n",
    "import matplotlib.pyplot as plt\n",
    "import seaborn as sns\n",
    "import plotly.plotly as py\n",
    "import plotly.graph_objs as go"
   ]
  },
  {
   "cell_type": "markdown",
   "metadata": {},
   "source": [
    "If you want, you can set a default figure size for charts:\n",
    "\n"
   ]
  },
  {
   "cell_type": "code",
   "execution_count": 18,
   "metadata": {},
   "outputs": [],
   "source": [
    "plt.rcParams['figure.figsize'] = [10, 8]"
   ]
  },
  {
   "cell_type": "markdown",
   "metadata": {},
   "source": [
    "Next, import your data. We have included a cleaned version of the dataset in the *data* directory. pvol is what is referred to as a \"dataframe\" in pandas terminology. You will often see the variable name df (e.g. df = pd.read<sub>csv</sub>('example.csv')).\n",
    "\n"
   ]
  },
  {
   "cell_type": "code",
   "execution_count": 19,
   "metadata": {},
   "outputs": [],
   "source": [
    "pvol = pd.read_csv('data/king_pedestrian_volume.csv')"
   ]
  },
  {
   "cell_type": "markdown",
   "metadata": {},
   "source": [
    "Set the index for the pandas dataframe you've created:\n",
    "\n"
   ]
  },
  {
   "cell_type": "code",
   "execution_count": 20,
   "metadata": {},
   "outputs": [
    {
     "data": {
      "text/html": [
       "<div>\n",
       "<style scoped>\n",
       "    .dataframe tbody tr th:only-of-type {\n",
       "        vertical-align: middle;\n",
       "    }\n",
       "\n",
       "    .dataframe tbody tr th {\n",
       "        vertical-align: top;\n",
       "    }\n",
       "\n",
       "    .dataframe thead th {\n",
       "        text-align: right;\n",
       "    }\n",
       "</style>\n",
       "<table border=\"1\" class=\"dataframe\">\n",
       "  <thead>\n",
       "    <tr style=\"text-align: right;\">\n",
       "      <th></th>\n",
       "      <th>am_bathurst_baseline</th>\n",
       "      <th>am_bathurst_january</th>\n",
       "      <th>am_bathurst_february</th>\n",
       "      <th>am_bathurst_march</th>\n",
       "      <th>am_bathurst_april</th>\n",
       "      <th>am_bathurst_may</th>\n",
       "      <th>am_bathurst_june</th>\n",
       "      <th>am_spadina_baseline</th>\n",
       "      <th>am_spadina_january</th>\n",
       "      <th>am_spadina_february</th>\n",
       "      <th>...</th>\n",
       "      <th>pm_bay_april</th>\n",
       "      <th>pm_bay_may</th>\n",
       "      <th>pm_bay_june</th>\n",
       "      <th>pm_jarvis_baseline</th>\n",
       "      <th>pm_jarvis_january</th>\n",
       "      <th>pm_jarvis_february</th>\n",
       "      <th>pm_jarvis_march</th>\n",
       "      <th>pm_jarvis_april</th>\n",
       "      <th>pm_jarvis_may</th>\n",
       "      <th>pm_jarvis_june</th>\n",
       "    </tr>\n",
       "    <tr>\n",
       "      <th>street</th>\n",
       "      <th></th>\n",
       "      <th></th>\n",
       "      <th></th>\n",
       "      <th></th>\n",
       "      <th></th>\n",
       "      <th></th>\n",
       "      <th></th>\n",
       "      <th></th>\n",
       "      <th></th>\n",
       "      <th></th>\n",
       "      <th></th>\n",
       "      <th></th>\n",
       "      <th></th>\n",
       "      <th></th>\n",
       "      <th></th>\n",
       "      <th></th>\n",
       "      <th></th>\n",
       "      <th></th>\n",
       "      <th></th>\n",
       "      <th></th>\n",
       "      <th></th>\n",
       "    </tr>\n",
       "  </thead>\n",
       "  <tbody>\n",
       "    <tr>\n",
       "      <th>queen</th>\n",
       "      <td>1810</td>\n",
       "      <td>1640</td>\n",
       "      <td>1750</td>\n",
       "      <td>1760</td>\n",
       "      <td>1790</td>\n",
       "      <td>1960</td>\n",
       "      <td>1770</td>\n",
       "      <td>2000</td>\n",
       "      <td>1880</td>\n",
       "      <td>1790</td>\n",
       "      <td>...</td>\n",
       "      <td>4890</td>\n",
       "      <td>8340</td>\n",
       "      <td>9280</td>\n",
       "      <td>1320</td>\n",
       "      <td>1140</td>\n",
       "      <td>1300</td>\n",
       "      <td>1210</td>\n",
       "      <td>1300</td>\n",
       "      <td>1450</td>\n",
       "      <td>1460</td>\n",
       "    </tr>\n",
       "    <tr>\n",
       "      <th>king</th>\n",
       "      <td>2820</td>\n",
       "      <td>2680</td>\n",
       "      <td>2620</td>\n",
       "      <td>2590</td>\n",
       "      <td>2580</td>\n",
       "      <td>2890</td>\n",
       "      <td>2780</td>\n",
       "      <td>4150</td>\n",
       "      <td>3580</td>\n",
       "      <td>3690</td>\n",
       "      <td>...</td>\n",
       "      <td>5540</td>\n",
       "      <td>8060</td>\n",
       "      <td>8190</td>\n",
       "      <td>3370</td>\n",
       "      <td>3760</td>\n",
       "      <td>4050</td>\n",
       "      <td>3930</td>\n",
       "      <td>4060</td>\n",
       "      <td>3920</td>\n",
       "      <td>4080</td>\n",
       "    </tr>\n",
       "  </tbody>\n",
       "</table>\n",
       "<p>2 rows × 56 columns</p>\n",
       "</div>"
      ],
      "text/plain": [
       "        am_bathurst_baseline  am_bathurst_january  am_bathurst_february  \\\n",
       "street                                                                    \n",
       "queen                   1810                 1640                  1750   \n",
       "king                    2820                 2680                  2620   \n",
       "\n",
       "        am_bathurst_march  am_bathurst_april  am_bathurst_may  \\\n",
       "street                                                          \n",
       "queen                1760               1790             1960   \n",
       "king                 2590               2580             2890   \n",
       "\n",
       "        am_bathurst_june  am_spadina_baseline  am_spadina_january  \\\n",
       "street                                                              \n",
       "queen               1770                 2000                1880   \n",
       "king                2780                 4150                3580   \n",
       "\n",
       "        am_spadina_february       ...        pm_bay_april  pm_bay_may  \\\n",
       "street                            ...                                   \n",
       "queen                  1790       ...                4890        8340   \n",
       "king                   3690       ...                5540        8060   \n",
       "\n",
       "        pm_bay_june  pm_jarvis_baseline  pm_jarvis_january  \\\n",
       "street                                                       \n",
       "queen          9280                1320               1140   \n",
       "king           8190                3370               3760   \n",
       "\n",
       "        pm_jarvis_february  pm_jarvis_march  pm_jarvis_april  pm_jarvis_may  \\\n",
       "street                                                                        \n",
       "queen                 1300             1210             1300           1450   \n",
       "king                  4050             3930             4060           3920   \n",
       "\n",
       "        pm_jarvis_june  \n",
       "street                  \n",
       "queen             1460  \n",
       "king              4080  \n",
       "\n",
       "[2 rows x 56 columns]"
      ]
     },
     "execution_count": 20,
     "metadata": {},
     "output_type": "execute_result"
    }
   ],
   "source": [
    "pvol.set_index('street')"
   ]
  },
  {
   "cell_type": "markdown",
   "metadata": {},
   "source": [
    "Create some objects for each street. Normally, we wouldn't want such long names (and wide dataframes), but explaining the hows and whys of reshaping data is not in the scope of this tutorial. If you're interested, read Hadley Wickham's papers on the subject ([http://vita.had.co.nz/papers/tidy-data.html](http://vita.had.co.nz/papers/tidy-data.html)) or follow these instructions for reshaping data in pandas: [https://pandas.pydata.org/pandas-docs/stable/reshaping.html](https://pandas.pydata.org/pandas-docs/stable/reshaping.html)\n",
    "\n"
   ]
  },
  {
   "cell_type": "code",
   "execution_count": 21,
   "metadata": {},
   "outputs": [],
   "source": [
    "#### am objects\n",
    "# bathurst\n",
    "pvol_bathurst_am = pvol[['street',\n",
    "                         'am_bathurst_baseline',\n",
    "                         'am_bathurst_january',\n",
    "                         'am_bathurst_february',\n",
    "                         'am_bathurst_march',\n",
    "                         'am_bathurst_april',\n",
    "                         'am_bathurst_may',\n",
    "                         'am_bathurst_june']]\n",
    "\n",
    "# spadina\n",
    "pvol_spadina_am = pvol[['street',\n",
    "                        'am_spadina_baseline',\n",
    "                        'am_spadina_january',\n",
    "                        'am_spadina_february',\n",
    "                        'am_spadina_march',\n",
    "                        'am_spadina_april',\n",
    "                        'am_spadina_may',\n",
    "                        'am_spadina_june']]\n",
    "\n",
    "# bay\n",
    "pvol_bay_am = pvol[['street',\n",
    "                    'am_bay_baseline',\n",
    "                    'am_bay_january',\n",
    "                    'am_bay_february',\n",
    "                    'am_bay_march',\n",
    "                    'am_bay_april',\n",
    "                    'am_bay_may',\n",
    "                    'am_bay_june']]\n",
    "\n",
    "# jarvis\n",
    "pvol_jarvis_am = pvol[['street',\n",
    "                       'am_jarvis_baseline',\n",
    "                       'am_jarvis_january',\n",
    "                       'am_jarvis_february',\n",
    "                       'am_jarvis_march',\n",
    "                       'am_jarvis_april',\n",
    "                       'am_jarvis_may',\n",
    "                       'am_jarvis_june']]\n",
    "\n",
    "#### pm objects\n",
    "# bathurst\n",
    "pvol_bathurst_pm = pvol[['street',\n",
    "                         'pm_bathurst_baseline',\n",
    "                         'pm_bathurst_january',\n",
    "                         'pm_bathurst_february',\n",
    "                         'pm_bathurst_march',\n",
    "                         'pm_bathurst_april',\n",
    "                         'pm_bathurst_may',\n",
    "                         'pm_bathurst_june']]\n",
    "\n",
    "# spadina\n",
    "pvol_spadina_pm = pvol[['street',\n",
    "                        'pm_spadina_baseline',\n",
    "                        'pm_spadina_january',\n",
    "                        'pm_spadina_february',\n",
    "                        'pm_spadina_march',\n",
    "                        'pm_spadina_april',\n",
    "                        'pm_spadina_may',\n",
    "                        'pm_spadina_june']]\n",
    "\n",
    "# bay\n",
    "pvol_bay_pm = pvol[['street',\n",
    "                    'pm_bay_baseline',\n",
    "                    'pm_bay_january',\n",
    "                    'pm_bay_february',\n",
    "                    'pm_bay_march',\n",
    "                    'pm_bay_april',\n",
    "                    'pm_bay_may',\n",
    "                    'pm_bay_june']]\n",
    "\n",
    "# jarvis\n",
    "pvol_jarvis_pm = pvol[['street',\n",
    "                       'pm_jarvis_baseline',\n",
    "                       'pm_jarvis_january',\n",
    "                       'pm_jarvis_february',\n",
    "                       'pm_jarvis_march',\n",
    "                       'pm_jarvis_april',\n",
    "                       'pm_jarvis_may',\n",
    "                       'pm_jarvis_june']]"
   ]
  },
  {
   "cell_type": "markdown",
   "metadata": {},
   "source": [
    "Using the standard pandas plotting functions (which rely on matplotlib), you can prepare bare-bones static charts (you might use matplotlib or seaborn if you want greater customization options). There are lots of ways to adjust the colours if you want, but we like our charts to look like life savers ;-)\n",
    "\n"
   ]
  },
  {
   "cell_type": "code",
   "execution_count": 22,
   "metadata": {},
   "outputs": [
    {
     "data": {
      "image/png": "[encoded data removed]",
      "text/plain": [
       "<Figure size 720x576 with 1 Axes>"
      ]
     },
     "metadata": {},
     "output_type": "display_data"
    }
   ],
   "source": [
    "pvol_bathurst_am.plot.bar(x='street', \n",
    "                          rot=0,\n",
    "                          width=0.85, \n",
    "                          title='AM Peak Pedestrian Volume Measured at Bathurst');"
   ]
  },
  {
   "cell_type": "markdown",
   "metadata": {},
   "source": [
    "If you want horizontal charts, you can feed barh to the plot method:\n",
    "\n"
   ]
  },
  {
   "cell_type": "code",
   "execution_count": 23,
   "metadata": {},
   "outputs": [
    {
     "data": {
      "image/png": "[encoded data removed]",
      "text/plain": [
       "<Figure size 720x576 with 1 Axes>"
      ]
     },
     "metadata": {},
     "output_type": "display_data"
    }
   ],
   "source": [
    "pvol_bathurst_am.plot.barh(x='street', \n",
    "                           rot=0,\n",
    "                           width=0.85,\n",
    "                           title='AM Peak Pedestrian Volume Measured at Bathurst')\n",
    "plt.gca().invert_yaxis();"
   ]
  },
  {
   "cell_type": "markdown",
   "metadata": {},
   "source": [
    "Far more interesting and useful is the potential for creating interactive charts inside a notebook. There are various libraries you can use (such as Bokeh or Pygal), but we find Plotly to be the most well-developed. It also has an easy-to-use web portal. What we're going to do next is create a grouped bar chart using Plotly's python library.\n",
    "\n"
   ]
  },
  {
   "cell_type": "code",
   "execution_count": 24,
   "metadata": {},
   "outputs": [
    {
     "data": {
      "text/html": [
       "<iframe id=\"igraph\" scrolling=\"no\" style=\"border:none;\" seamless=\"seamless\" src=\"https://plot.ly/~gbby/239.embed\" height=\"525px\" width=\"100%\"></iframe>"
      ],
      "text/plain": [
       "<plotly.tools.PlotlyDisplay object>"
      ]
     },
     "execution_count": 24,
     "metadata": {},
     "output_type": "execute_result"
    }
   ],
   "source": [
    "#### plotly-based grouped bar charts\n",
    "# AM Bathurst\n",
    "baseline = go.Bar(\n",
    "    x=pvol['street'],\n",
    "    y=pvol['am_bathurst_baseline'],\n",
    "    name='AM Bathurst Baseline',\n",
    "    hoverinfo='y+name'\n",
    ")\n",
    "january = go.Bar(\n",
    "    x=pvol['street'],\n",
    "    y=pvol['am_bathurst_january'],\n",
    "    name='AM Bathurst January',\n",
    "    hoverinfo='y+name'\n",
    ")\n",
    "february = go.Bar(\n",
    "    x=pvol['street'],\n",
    "    y=pvol['am_bathurst_february'],\n",
    "    name='AM Bathurst February',\n",
    "    hoverinfo='y+name'\n",
    ")\n",
    "march = go.Bar(\n",
    "    x=pvol['street'],\n",
    "    y=pvol['am_bathurst_march'],\n",
    "    name='AM Bathurst March',\n",
    "    hoverinfo='y+name'\n",
    ")\n",
    "april = go.Bar(\n",
    "    x=pvol['street'],\n",
    "    y=pvol['am_bathurst_april'],\n",
    "    name='AM Bathurst April',\n",
    "    hoverinfo='y+name'\n",
    ")\n",
    "may = go.Bar(\n",
    "    x=pvol['street'],\n",
    "    y=pvol['am_bathurst_may'],\n",
    "    name='AM Bathurst May',\n",
    "    hoverinfo='y+name'\n",
    ")\n",
    "june = go.Bar(\n",
    "    x=pvol['street'],\n",
    "    y=pvol['am_bathurst_june'],\n",
    "    name='AM Bathurst June',\n",
    "    hoverinfo='y+name'\n",
    ")\n",
    "\n",
    "data = [baseline, january, february, march, april, may, june]\n",
    "layout = go.Layout(\n",
    "    barmode='group',\n",
    "    # bargap=0.15,\n",
    "    bargroupgap=0.1,\n",
    "    hovermode='closest'\n",
    "    # showlegend=False\n",
    ")\n",
    "\n",
    "fig = go.Figure(data=data, layout=layout)\n",
    "py.iplot(fig, filename='grouped-bar')"
   ]
  },
  {
   "cell_type": "markdown",
   "metadata": {},
   "source": [
    "This chart displays monthly average pedestrian counts for the morning rush at the intersections Bathurst/Queen and Bathurst/King. The dataframe provides options for the 7-10 am and 4-7 pm peak periods at the intersections of Bathurst, Spadina, Bay, and Jarvis (at both King and Queen). Change your arguments accordingly to prepare different - or multiple - charts.\n",
    "\n"
   ]
  },
  {
   "cell_type": "markdown",
   "metadata": {},
   "source": [
    "\n",
    "# 3D Bars in Blender\n",
    "\n"
   ]
  },
  {
   "cell_type": "markdown",
   "metadata": {},
   "source": [
    "Now, let's take these same charts that we've prepared for the screen and render them as 3D models. This section assumes that you have the csv and bpy modules available in your Python ecosystem. Depending on your operating system and Python configuration, they may be pre-loaded, or you may need to install and configure separately.\n",
    "\n",
    "These steps have already been done, but are included for reference:\n",
    "\n",
    "-   open king<sub>pedestrian</sub><sub>volume.csv</sub> in a spreadsheet application (calc or excel) and copy the entire row for king\n",
    "-   open a new window/file and \"paste special\" with the transpose option to turn your row of data into a column\n",
    "-   remove the \"king\" row at the top, then save as a new file called pvol<sub>king.csv</sub>\n",
    "-   repeat these steps for queen\n",
    "\n"
   ]
  },
  {
   "cell_type": "code",
   "execution_count": 25,
   "metadata": {},
   "outputs": [
    {
     "data": {
      "text/html": [
       "<img src=\"images/blender.gif\">"
      ],
      "text/plain": [
       "<IPython.core.display.HTML object>"
      ]
     },
     "metadata": {},
     "output_type": "display_data"
    }
   ],
   "source": [
    "%%html\n",
    "<img src=\"images/blender.gif\">"
   ]
  },
  {
   "cell_type": "markdown",
   "metadata": {},
   "source": [
    "-   referring to the image above, open up a \"text editor\" screen in Blender\n",
    "-   open the 3Dbars.py script (that has been included in this repository) and use it to create 3D bars using the pvol<sub>king.csv</sub> and pvol<sub>queen.csv</sub> files (you'll need to run them separately)\n",
    "-   when you are satisfied with the results, export an entire group or the entire street as .obj or .stl files\n",
    "\n"
   ]
  },
  {
   "cell_type": "markdown",
   "metadata": {},
   "source": [
    "\n",
    "# Preparing 3D Data Maps\n",
    "\n"
   ]
  },
  {
   "cell_type": "markdown",
   "metadata": {},
   "source": [
    "Now, we're going to switch to the recently-released [2016 Neighbourhood Profiles Dataset](https://www.toronto.ca/city-government/data-research-maps/open-data/open-data-catalogue/#8c732154-5012-9afe-d0cd-ba3ffc813d5a). (We had done a bunch of work with ward data in anticipation of the upcoming election, but it seems pretty irrelevant in light of recent events!) We're going to compare population growth between 2011 and 2016 (which is originally taken from the 2016 Census - [more info here](https://www12.statcan.gc.ca/census-recensement/2016/dp-pd/prof/details/page.cfm?Lang=E&Geo1=CSD&Geo2=PR&Code2=01&Data=Count&SearchType=Begins&SearchPR=01&TABID=1&B1=All&Code1=3520005&SearchText=toronto)). There are plenty of interesting features of this dataset that you might consider using instead of population - language concentrations, income, citizenship, etc. We've already cleaned and processed the population data so it will play nice with QGIS. The raw and processed .csv files are in the *data* directory. \n",
    "\n",
    "**If you're going to use Excel or Calc to prep data for import into QGIS, here are some important steps:**\n",
    "\n",
    "-   read this about setting up data for QGIS [http://www.qgis.nl/2012/07/13/koppelen-van-data-uit-csv-bestand/?lang=en](http://www.qgis.nl/2012/07/13/koppelen-van-data-uit-csv-bestand/?lang=en)\n",
    "-   similar to the steps used with the King dataset, you'll want to cut the row you want and paste special into a new document, transposing the row into a column (this can also be done in pandas)\n",
    "-   in order to get the appropriate scale in later 3D model, concatenate a decimal and zero to cell and copy down the column (you can also change the shapefile size parameters in QGIS, but that's a taller order)\n",
    "-   (right click to) format first column and make sure it has leading zeroes to match the id values in the shapefile\n",
    "-   make sure you have a csvt and follow the appropriate formula in current one - refer to this: [https://anitagraser.com/2011/03/07/how-to-specify-data-types-of-csv-columns-for-use-in-qgis/](https://anitagraser.com/2011/03/07/how-to-specify-data-types-of-csv-columns-for-use-in-qgis/)\n",
    "\n",
    "**Here are some additional things you can do with pandas and numpy:** \n",
    "\n",
    "Depending on the data you use, you might have to re-scale to make it printable. Refer to the following image:\n",
    "\n"
   ]
  },
  {
   "cell_type": "code",
   "execution_count": 26,
   "metadata": {},
   "outputs": [
    {
     "data": {
      "text/html": [
       "<img src=\"images/ladder2.gif\">"
      ],
      "text/plain": [
       "<IPython.core.display.HTML object>"
      ]
     },
     "metadata": {},
     "output_type": "display_data"
    }
   ],
   "source": [
    "%%html\n",
    "<img src=\"images/ladder2.gif\">"
   ]
  },
  {
   "cell_type": "markdown",
   "metadata": {},
   "source": [
    "Import the data:\n",
    "\n"
   ]
  },
  {
   "cell_type": "code",
   "execution_count": 27,
   "metadata": {},
   "outputs": [
    {
     "data": {
      "text/html": [
       "<div>\n",
       "<style scoped>\n",
       "    .dataframe tbody tr th:only-of-type {\n",
       "        vertical-align: middle;\n",
       "    }\n",
       "\n",
       "    .dataframe tbody tr th {\n",
       "        vertical-align: top;\n",
       "    }\n",
       "\n",
       "    .dataframe thead th {\n",
       "        text-align: right;\n",
       "    }\n",
       "</style>\n",
       "<table border=\"1\" class=\"dataframe\">\n",
       "  <thead>\n",
       "    <tr style=\"text-align: right;\">\n",
       "      <th></th>\n",
       "      <th>id</th>\n",
       "      <th>2011</th>\n",
       "      <th>2016</th>\n",
       "    </tr>\n",
       "  </thead>\n",
       "  <tbody>\n",
       "    <tr>\n",
       "      <th>0</th>\n",
       "      <td>001</td>\n",
       "      <td>0.0341</td>\n",
       "      <td>0.033312</td>\n",
       "    </tr>\n",
       "    <tr>\n",
       "      <th>1</th>\n",
       "      <td>002</td>\n",
       "      <td>0.032788</td>\n",
       "      <td>0.032954</td>\n",
       "    </tr>\n",
       "    <tr>\n",
       "      <th>2</th>\n",
       "      <td>003</td>\n",
       "      <td>0.010138</td>\n",
       "      <td>0.01036</td>\n",
       "    </tr>\n",
       "    <tr>\n",
       "      <th>3</th>\n",
       "      <td>004</td>\n",
       "      <td>0.010488</td>\n",
       "      <td>0.010529</td>\n",
       "    </tr>\n",
       "    <tr>\n",
       "      <th>4</th>\n",
       "      <td>005</td>\n",
       "      <td>0.00955</td>\n",
       "      <td>0.009456</td>\n",
       "    </tr>\n",
       "  </tbody>\n",
       "</table>\n",
       "</div>"
      ],
      "text/plain": [
       "    id      2011      2016\n",
       "0  001    0.0341  0.033312\n",
       "1  002  0.032788  0.032954\n",
       "2  003  0.010138   0.01036\n",
       "3  004  0.010488  0.010529\n",
       "4  005   0.00955  0.009456"
      ]
     },
     "execution_count": 27,
     "metadata": {},
     "output_type": "execute_result"
    }
   ],
   "source": [
    "df = pd.read_csv('data/neighbourhood_pop.csv', dtype=str) # dtype str will keep the leading zeroes\n",
    "df.head()"
   ]
  },
  {
   "cell_type": "markdown",
   "metadata": {},
   "source": [
    "Set index to ID:\n",
    "\n"
   ]
  },
  {
   "cell_type": "code",
   "execution_count": 28,
   "metadata": {},
   "outputs": [],
   "source": [
    "df.set_index('id', inplace=True)"
   ]
  },
  {
   "cell_type": "markdown",
   "metadata": {},
   "source": [
    "Convert strings to floats in order to use numpy functions:\n",
    "\n"
   ]
  },
  {
   "cell_type": "code",
   "execution_count": 29,
   "metadata": {},
   "outputs": [],
   "source": [
    "df['2011'] = df['2011'].astype(str).astype(float)\n",
    "df['2016'] = df['2016'].astype(str).astype(float)"
   ]
  },
  {
   "cell_type": "markdown",
   "metadata": {},
   "source": [
    "You can use numpy to convert to square root, logarithmic, or whatever other scale you like:\n",
    "\n"
   ]
  },
  {
   "cell_type": "code",
   "execution_count": 30,
   "metadata": {},
   "outputs": [
    {
     "data": {
      "text/html": [
       "<div>\n",
       "<style scoped>\n",
       "    .dataframe tbody tr th:only-of-type {\n",
       "        vertical-align: middle;\n",
       "    }\n",
       "\n",
       "    .dataframe tbody tr th {\n",
       "        vertical-align: top;\n",
       "    }\n",
       "\n",
       "    .dataframe thead th {\n",
       "        text-align: right;\n",
       "    }\n",
       "</style>\n",
       "<table border=\"1\" class=\"dataframe\">\n",
       "  <thead>\n",
       "    <tr style=\"text-align: right;\">\n",
       "      <th></th>\n",
       "      <th>2011</th>\n",
       "      <th>2016</th>\n",
       "    </tr>\n",
       "    <tr>\n",
       "      <th>id</th>\n",
       "      <th></th>\n",
       "      <th></th>\n",
       "    </tr>\n",
       "  </thead>\n",
       "  <tbody>\n",
       "    <tr>\n",
       "      <th>001</th>\n",
       "      <td>-1.467246</td>\n",
       "      <td>0.182516</td>\n",
       "    </tr>\n",
       "    <tr>\n",
       "      <th>002</th>\n",
       "      <td>-1.484285</td>\n",
       "      <td>0.181532</td>\n",
       "    </tr>\n",
       "    <tr>\n",
       "      <th>003</th>\n",
       "      <td>-1.994048</td>\n",
       "      <td>0.101784</td>\n",
       "    </tr>\n",
       "    <tr>\n",
       "      <th>004</th>\n",
       "      <td>-1.979307</td>\n",
       "      <td>0.102611</td>\n",
       "    </tr>\n",
       "    <tr>\n",
       "      <th>005</th>\n",
       "      <td>-2.019997</td>\n",
       "      <td>0.097242</td>\n",
       "    </tr>\n",
       "  </tbody>\n",
       "</table>\n",
       "</div>"
      ],
      "text/plain": [
       "         2011      2016\n",
       "id                     \n",
       "001 -1.467246  0.182516\n",
       "002 -1.484285  0.181532\n",
       "003 -1.994048  0.101784\n",
       "004 -1.979307  0.102611\n",
       "005 -2.019997  0.097242"
      ]
     },
     "execution_count": 30,
     "metadata": {},
     "output_type": "execute_result"
    }
   ],
   "source": [
    "df['2016'] = np.sqrt(df['2016'])\n",
    "df['2011'] = np.log10(df['2011'])\n",
    "df.head()"
   ]
  },
  {
   "cell_type": "markdown",
   "metadata": {},
   "source": [
    "When you're done processing, you can output a new .csv for import into QGIS (this has already been done):\n",
    "\n"
   ]
  },
  {
   "cell_type": "code",
   "execution_count": 31,
   "metadata": {},
   "outputs": [],
   "source": [
    "df.to_csv('data/neighbourhood_pop_scaled.csv')"
   ]
  },
  {
   "cell_type": "markdown",
   "metadata": {},
   "source": [
    "\n",
    "## Working in QGIS:\n",
    "\n"
   ]
  },
  {
   "cell_type": "markdown",
   "metadata": {},
   "source": [
    "-   download the [neighbourhoods shapefile](https://www.toronto.ca/city-government/data-research-maps/open-data/open-data-catalogue/#a45bd45a-ede8-730e-1abc-93105b2c439f) - you'll want the WGS84 coordinate system (we've included the files you need in the *data* directory)\n",
    "-   use ctrl-shift-v to add a vector layer\n",
    "-   select the entire .zip that you've downloaded and create your vector layer from it\n",
    "-   import neighbourhood<sub>pop.csv</sub> as a vector layer (not as a delimited one)\n",
    "-   join data from csv to existing shapefile - refer to [https://gis.stackexchange.com/questions/182281/how-to-join-data-from-excel-to-an-attribute-table-in-qgis-without-creating-dupli>](https://gis.stackexchange.com/questions/182281/how-to-join-data-from-excel-to-an-attribute-table-in-qgis-without-creating-dupli>)or the following image\n",
    "-   save a new shapefile and edit column names if you wish\n",
    "\n"
   ]
  },
  {
   "cell_type": "code",
   "execution_count": 32,
   "metadata": {},
   "outputs": [
    {
     "data": {
      "text/html": [
       "<img src=\"images/qgis.gif\">"
      ],
      "text/plain": [
       "<IPython.core.display.HTML object>"
      ]
     },
     "metadata": {},
     "output_type": "display_data"
    }
   ],
   "source": [
    "%%html\n",
    "<img src=\"images/qgis.gif\">"
   ]
  },
  {
   "cell_type": "markdown",
   "metadata": {},
   "source": [
    "\n",
    "## Loading your Shapefile into Blender:\n",
    "\n"
   ]
  },
  {
   "cell_type": "markdown",
   "metadata": {},
   "source": [
    "-   make sure you have the BlenderGIS plugin installed and configured: [https://github.com/domlysz/BlenderGIS](https://github.com/domlysz/BlenderGIS)\n",
    "-   import the new shapefile that you've just created\n",
    "-   set extrusion to the specific data column you want to use (in our example, 2011 or 2016 population)\n",
    "-   set to extrude along z axis\n",
    "-   if you want, separate the objects and create object names from the id field\n",
    "-   change coordinates to WGS84 latlon\n",
    "-   you might also add a base or make the objects solid (use solidify modifier) to make printing easier\n",
    "-   as with the previous example, you'll want to export to .obj or .stl and make sure to set the scale, materials, and other export parameters to work with your 3D printing software (e.g. Cura, if you're using an Ultimaker)\n",
    "\n"
   ]
  },
  {
   "cell_type": "code",
   "execution_count": 33,
   "metadata": {},
   "outputs": [
    {
     "data": {
      "text/html": [
       "<img src=\"images/shapefile.gif\">"
      ],
      "text/plain": [
       "<IPython.core.display.HTML object>"
      ]
     },
     "metadata": {},
     "output_type": "display_data"
    }
   ],
   "source": [
    "%%html\n",
    "<img src=\"images/shapefile.gif\">"
   ]
  },
  {
   "cell_type": "markdown",
   "metadata": {},
   "source": [
    "\n",
    "# 3D Printing Considerations\n",
    "\n"
   ]
  },
  {
   "cell_type": "markdown",
   "metadata": {},
   "source": [
    "There are numerous software applications that you might use for preparing models prior to setting them up to print. You can likely do most of your prep in Blender, but the learning curve is steep. \n",
    "\n",
    "-   Meshlab is not very user friendly, but has a million features built into it (especially good for working with point clouds): [http://www.meshlab.net/](http://www.meshlab.net/)\n",
    "-   Meshmixer has been the go-to processing tool for a long time, and has everything from sculpting tools to built-in printer export: [http://www.meshmixer.com/](http://www.meshmixer.com/)\n",
    "-   Cotangent is a new application from the guy who developed Meshmixer. It has lots of interesting features, including better repair and slicing features, and is ideal for prepping 3D prints: [https://www.cotangent.io/](https://www.cotangent.io/)\n",
    "\n",
    "**Some Useful Blender shortcuts:**\n",
    "\n",
    "|keys|function|\n",
    "|---\n",
    "|a|select all|\n",
    "|c|circle select|\n",
    "|ctrl-lmb|lasso select|\n",
    "|b|border select|\n",
    "|ctrl-g|group selected objects|\n",
    "|m|when object selected, move to specific layer|\n",
    "\n",
    "**Some things to think about if you're preparing tactile models for blind users:** \n",
    "\n",
    "-   here's how you can install braille font in Blender [https://blender.stackexchange.com/questions/39437/braille-text-in-blender](https://blender.stackexchange.com/questions/39437/braille-text-in-blender)\n",
    "-   you'll want to go into edit mode and extrude/bevel accordingly to make sure the dots are not too sharp\n",
    "-   braille is very challenging to print - if you're using an FDM printer, be careful that traces of filament are not being dragged across the dots. you can configure your retraction, temperature, and speed settings to fix this: [https://ultimaker.com/en/resources/19504-how-to-fix-stringing](https://ultimaker.com/en/resources/19504-how-to-fix-stringing)\n",
    "\n",
    "Printed tactile models do not have to be static! Think about how to separate your models into individual, reconfigurable/modular chunks in order to create dynamic data representations. It is easy to 3D print lego-like connectors onto the faces of your objects: [https://www.thingiverse.com/search?q=lego+brick&dwh=525baba295ab0da](https://www.thingiverse.com/search?q=lego+brick&dwh=525baba295ab0da). Additionally, attachable velcro tape gives you lots of options for creating endlessly modular graphics.\n",
    "\n",
    "Remember, once you have a digital 3D data representation, it can usually be ported to any number of interaction contexts:\n",
    "\n",
    "-   VR and gaming environments\n",
    "-   Immersive point clouds and 3D scatter plots (not particularly printable, but they can be really engaging!)\n",
    "-   Haptic/conductive extensions to tactile models\n",
    "\n"
   ]
  }
 ],
 "metadata": {
  "kernelspec": {
   "display_name": "Python 3",
   "language": "python",
   "name": "python3"
  },
  "language_info": {
   "codemirror_mode": {
    "name": "ipython",
    "version": 3
   },
   "file_extension": ".py",
   "mimetype": "text/x-python",
   "name": "python",
   "nbconvert_exporter": "python",
   "pygments_lexer": "ipython3",
   "version": "3.5.2"
  },
  "org": [
   null,
   null
  ]
 },
 "nbformat": 4,
 "nbformat_minor": 1
}
